{
 "cells": [
  {
   "cell_type": "markdown",
   "id": "272a4f3b-dee8-400e-836a-2da0aa26fa3d",
   "metadata": {},
   "source": [
    "# The link for my dataset: https://www.kaggle.com/datasets/fedesoriano/heart-failure-prediction\n",
    "# There are 919 observations in this dataset and they are presented different values to each variable<br>\n",
    "# There are 12 variable in this dataset, each variable is a factor and related to heart attack. for instances, T wave elevation is highly important to rule out weather the patient has acute heart attack or not, do they need cardioangiogram imeediately or not.<br>\n",
    "# I am curious about the age,sex and blood presuse... factors that have somthing to do with AMI\n",
    "# Five questions:<br>\n",
    "1. Does ST_slope change indicate heartdisease?<br>\n",
    "2. Does age has significant effect on having heart disease?<br>\n",
    "3. Is different chest pain type cause ST_slope changes?<br>\n",
    "4. does higher cholesterol indicate having heart disease?<br>\n",
    "5. Does resting_BP have reationship with cholestrol level?<br>"
   ]
  },
  {
   "cell_type": "code",
   "execution_count": 132,
   "id": "678d76aa-fedc-42eb-87bc-d1dd294dd344",
   "metadata": {},
   "outputs": [],
   "source": [
    "import pandas as pd\n",
    "import seaborn as sns\n",
    "import matplotlib.pyplot as plt\n",
    "\n",
    "from sklearn import model_selection\n",
    "from sklearn import linear_model\n",
    "from sklearn import metrics\n",
    "from scipy import stats\n",
    "\n",
    "# Stops columns from being cut off when displayed\n",
    "pd.set_option('display.max_colwidth', None)\n",
    "hearts =pd.read_csv(\"heart.csv\")\n",
    "\n"
   ]
  },
  {
   "cell_type": "code",
   "execution_count": 133,
   "id": "903d2d87-0179-46bb-883a-a6223473cac1",
   "metadata": {},
   "outputs": [
    {
     "data": {
      "text/html": [
       "<div>\n",
       "<style scoped>\n",
       "    .dataframe tbody tr th:only-of-type {\n",
       "        vertical-align: middle;\n",
       "    }\n",
       "\n",
       "    .dataframe tbody tr th {\n",
       "        vertical-align: top;\n",
       "    }\n",
       "\n",
       "    .dataframe thead th {\n",
       "        text-align: right;\n",
       "    }\n",
       "</style>\n",
       "<table border=\"1\" class=\"dataframe\">\n",
       "  <thead>\n",
       "    <tr style=\"text-align: right;\">\n",
       "      <th></th>\n",
       "      <th>Age</th>\n",
       "      <th>Sex</th>\n",
       "      <th>ChestPainType</th>\n",
       "      <th>RestingBP</th>\n",
       "      <th>Cholesterol</th>\n",
       "      <th>FastingBS</th>\n",
       "      <th>RestingECG</th>\n",
       "      <th>MaxHR</th>\n",
       "      <th>ExerciseAngina</th>\n",
       "      <th>Oldpeak</th>\n",
       "      <th>ST_Slope</th>\n",
       "      <th>HeartDisease</th>\n",
       "    </tr>\n",
       "  </thead>\n",
       "  <tbody>\n",
       "    <tr>\n",
       "      <th>count</th>\n",
       "      <td>918.000000</td>\n",
       "      <td>918</td>\n",
       "      <td>918</td>\n",
       "      <td>918.000000</td>\n",
       "      <td>918.000000</td>\n",
       "      <td>918.000000</td>\n",
       "      <td>918</td>\n",
       "      <td>918.000000</td>\n",
       "      <td>918</td>\n",
       "      <td>918.000000</td>\n",
       "      <td>918</td>\n",
       "      <td>918.000000</td>\n",
       "    </tr>\n",
       "    <tr>\n",
       "      <th>unique</th>\n",
       "      <td>NaN</td>\n",
       "      <td>2</td>\n",
       "      <td>4</td>\n",
       "      <td>NaN</td>\n",
       "      <td>NaN</td>\n",
       "      <td>NaN</td>\n",
       "      <td>3</td>\n",
       "      <td>NaN</td>\n",
       "      <td>2</td>\n",
       "      <td>NaN</td>\n",
       "      <td>3</td>\n",
       "      <td>NaN</td>\n",
       "    </tr>\n",
       "    <tr>\n",
       "      <th>top</th>\n",
       "      <td>NaN</td>\n",
       "      <td>M</td>\n",
       "      <td>ASY</td>\n",
       "      <td>NaN</td>\n",
       "      <td>NaN</td>\n",
       "      <td>NaN</td>\n",
       "      <td>Normal</td>\n",
       "      <td>NaN</td>\n",
       "      <td>N</td>\n",
       "      <td>NaN</td>\n",
       "      <td>Flat</td>\n",
       "      <td>NaN</td>\n",
       "    </tr>\n",
       "    <tr>\n",
       "      <th>freq</th>\n",
       "      <td>NaN</td>\n",
       "      <td>725</td>\n",
       "      <td>496</td>\n",
       "      <td>NaN</td>\n",
       "      <td>NaN</td>\n",
       "      <td>NaN</td>\n",
       "      <td>552</td>\n",
       "      <td>NaN</td>\n",
       "      <td>547</td>\n",
       "      <td>NaN</td>\n",
       "      <td>460</td>\n",
       "      <td>NaN</td>\n",
       "    </tr>\n",
       "    <tr>\n",
       "      <th>mean</th>\n",
       "      <td>53.510893</td>\n",
       "      <td>NaN</td>\n",
       "      <td>NaN</td>\n",
       "      <td>132.396514</td>\n",
       "      <td>198.799564</td>\n",
       "      <td>0.233115</td>\n",
       "      <td>NaN</td>\n",
       "      <td>136.809368</td>\n",
       "      <td>NaN</td>\n",
       "      <td>0.887364</td>\n",
       "      <td>NaN</td>\n",
       "      <td>0.553377</td>\n",
       "    </tr>\n",
       "    <tr>\n",
       "      <th>std</th>\n",
       "      <td>9.432617</td>\n",
       "      <td>NaN</td>\n",
       "      <td>NaN</td>\n",
       "      <td>18.514154</td>\n",
       "      <td>109.384145</td>\n",
       "      <td>0.423046</td>\n",
       "      <td>NaN</td>\n",
       "      <td>25.460334</td>\n",
       "      <td>NaN</td>\n",
       "      <td>1.066570</td>\n",
       "      <td>NaN</td>\n",
       "      <td>0.497414</td>\n",
       "    </tr>\n",
       "    <tr>\n",
       "      <th>min</th>\n",
       "      <td>28.000000</td>\n",
       "      <td>NaN</td>\n",
       "      <td>NaN</td>\n",
       "      <td>0.000000</td>\n",
       "      <td>0.000000</td>\n",
       "      <td>0.000000</td>\n",
       "      <td>NaN</td>\n",
       "      <td>60.000000</td>\n",
       "      <td>NaN</td>\n",
       "      <td>-2.600000</td>\n",
       "      <td>NaN</td>\n",
       "      <td>0.000000</td>\n",
       "    </tr>\n",
       "    <tr>\n",
       "      <th>25%</th>\n",
       "      <td>47.000000</td>\n",
       "      <td>NaN</td>\n",
       "      <td>NaN</td>\n",
       "      <td>120.000000</td>\n",
       "      <td>173.250000</td>\n",
       "      <td>0.000000</td>\n",
       "      <td>NaN</td>\n",
       "      <td>120.000000</td>\n",
       "      <td>NaN</td>\n",
       "      <td>0.000000</td>\n",
       "      <td>NaN</td>\n",
       "      <td>0.000000</td>\n",
       "    </tr>\n",
       "    <tr>\n",
       "      <th>50%</th>\n",
       "      <td>54.000000</td>\n",
       "      <td>NaN</td>\n",
       "      <td>NaN</td>\n",
       "      <td>130.000000</td>\n",
       "      <td>223.000000</td>\n",
       "      <td>0.000000</td>\n",
       "      <td>NaN</td>\n",
       "      <td>138.000000</td>\n",
       "      <td>NaN</td>\n",
       "      <td>0.600000</td>\n",
       "      <td>NaN</td>\n",
       "      <td>1.000000</td>\n",
       "    </tr>\n",
       "    <tr>\n",
       "      <th>75%</th>\n",
       "      <td>60.000000</td>\n",
       "      <td>NaN</td>\n",
       "      <td>NaN</td>\n",
       "      <td>140.000000</td>\n",
       "      <td>267.000000</td>\n",
       "      <td>0.000000</td>\n",
       "      <td>NaN</td>\n",
       "      <td>156.000000</td>\n",
       "      <td>NaN</td>\n",
       "      <td>1.500000</td>\n",
       "      <td>NaN</td>\n",
       "      <td>1.000000</td>\n",
       "    </tr>\n",
       "    <tr>\n",
       "      <th>max</th>\n",
       "      <td>77.000000</td>\n",
       "      <td>NaN</td>\n",
       "      <td>NaN</td>\n",
       "      <td>200.000000</td>\n",
       "      <td>603.000000</td>\n",
       "      <td>1.000000</td>\n",
       "      <td>NaN</td>\n",
       "      <td>202.000000</td>\n",
       "      <td>NaN</td>\n",
       "      <td>6.200000</td>\n",
       "      <td>NaN</td>\n",
       "      <td>1.000000</td>\n",
       "    </tr>\n",
       "  </tbody>\n",
       "</table>\n",
       "</div>"
      ],
      "text/plain": [
       "               Age  Sex ChestPainType   RestingBP  Cholesterol   FastingBS   \n",
       "count   918.000000  918           918  918.000000   918.000000  918.000000  \\\n",
       "unique         NaN    2             4         NaN          NaN         NaN   \n",
       "top            NaN    M           ASY         NaN          NaN         NaN   \n",
       "freq           NaN  725           496         NaN          NaN         NaN   \n",
       "mean     53.510893  NaN           NaN  132.396514   198.799564    0.233115   \n",
       "std       9.432617  NaN           NaN   18.514154   109.384145    0.423046   \n",
       "min      28.000000  NaN           NaN    0.000000     0.000000    0.000000   \n",
       "25%      47.000000  NaN           NaN  120.000000   173.250000    0.000000   \n",
       "50%      54.000000  NaN           NaN  130.000000   223.000000    0.000000   \n",
       "75%      60.000000  NaN           NaN  140.000000   267.000000    0.000000   \n",
       "max      77.000000  NaN           NaN  200.000000   603.000000    1.000000   \n",
       "\n",
       "       RestingECG       MaxHR ExerciseAngina     Oldpeak ST_Slope   \n",
       "count         918  918.000000            918  918.000000      918  \\\n",
       "unique          3         NaN              2         NaN        3   \n",
       "top        Normal         NaN              N         NaN     Flat   \n",
       "freq          552         NaN            547         NaN      460   \n",
       "mean          NaN  136.809368            NaN    0.887364      NaN   \n",
       "std           NaN   25.460334            NaN    1.066570      NaN   \n",
       "min           NaN   60.000000            NaN   -2.600000      NaN   \n",
       "25%           NaN  120.000000            NaN    0.000000      NaN   \n",
       "50%           NaN  138.000000            NaN    0.600000      NaN   \n",
       "75%           NaN  156.000000            NaN    1.500000      NaN   \n",
       "max           NaN  202.000000            NaN    6.200000      NaN   \n",
       "\n",
       "        HeartDisease  \n",
       "count     918.000000  \n",
       "unique           NaN  \n",
       "top              NaN  \n",
       "freq             NaN  \n",
       "mean        0.553377  \n",
       "std         0.497414  \n",
       "min         0.000000  \n",
       "25%         0.000000  \n",
       "50%         1.000000  \n",
       "75%         1.000000  \n",
       "max         1.000000  "
      ]
     },
     "execution_count": 133,
     "metadata": {},
     "output_type": "execute_result"
    }
   ],
   "source": [
    "hearts.describe(include=\"all\")"
   ]
  },
  {
   "cell_type": "code",
   "execution_count": 134,
   "id": "0572f512-d8ff-41e1-8042-860c44a45e58",
   "metadata": {},
   "outputs": [
    {
     "name": "stdout",
     "output_type": "stream",
     "text": [
      "<class 'pandas.core.frame.DataFrame'>\n",
      "RangeIndex: 918 entries, 0 to 917\n",
      "Data columns (total 12 columns):\n",
      " #   Column          Non-Null Count  Dtype  \n",
      "---  ------          --------------  -----  \n",
      " 0   Age             918 non-null    int64  \n",
      " 1   Sex             918 non-null    object \n",
      " 2   ChestPainType   918 non-null    object \n",
      " 3   RestingBP       918 non-null    int64  \n",
      " 4   Cholesterol     918 non-null    int64  \n",
      " 5   FastingBS       918 non-null    int64  \n",
      " 6   RestingECG      918 non-null    object \n",
      " 7   MaxHR           918 non-null    int64  \n",
      " 8   ExerciseAngina  918 non-null    object \n",
      " 9   Oldpeak         918 non-null    float64\n",
      " 10  ST_Slope        918 non-null    object \n",
      " 11  HeartDisease    918 non-null    int64  \n",
      "dtypes: float64(1), int64(6), object(5)\n",
      "memory usage: 86.2+ KB\n"
     ]
    }
   ],
   "source": [
    "hearts.info()"
   ]
  },
  {
   "cell_type": "code",
   "execution_count": 135,
   "id": "d58cb233-f3a2-4a95-ae21-3673b3bd35b6",
   "metadata": {},
   "outputs": [
    {
     "data": {
      "text/html": [
       "<div>\n",
       "<style scoped>\n",
       "    .dataframe tbody tr th:only-of-type {\n",
       "        vertical-align: middle;\n",
       "    }\n",
       "\n",
       "    .dataframe tbody tr th {\n",
       "        vertical-align: top;\n",
       "    }\n",
       "\n",
       "    .dataframe thead th {\n",
       "        text-align: right;\n",
       "    }\n",
       "</style>\n",
       "<table border=\"1\" class=\"dataframe\">\n",
       "  <thead>\n",
       "    <tr style=\"text-align: right;\">\n",
       "      <th></th>\n",
       "      <th>RestingBP</th>\n",
       "      <th>Cholesterol</th>\n",
       "    </tr>\n",
       "  </thead>\n",
       "  <tbody>\n",
       "    <tr>\n",
       "      <th>449</th>\n",
       "      <td>0</td>\n",
       "      <td>0</td>\n",
       "    </tr>\n",
       "    <tr>\n",
       "      <th>314</th>\n",
       "      <td>80</td>\n",
       "      <td>0</td>\n",
       "    </tr>\n",
       "    <tr>\n",
       "      <th>227</th>\n",
       "      <td>92</td>\n",
       "      <td>117</td>\n",
       "    </tr>\n",
       "    <tr>\n",
       "      <th>692</th>\n",
       "      <td>94</td>\n",
       "      <td>199</td>\n",
       "    </tr>\n",
       "    <tr>\n",
       "      <th>832</th>\n",
       "      <td>94</td>\n",
       "      <td>227</td>\n",
       "    </tr>\n",
       "  </tbody>\n",
       "</table>\n",
       "</div>"
      ],
      "text/plain": [
       "     RestingBP  Cholesterol\n",
       "449          0            0\n",
       "314         80            0\n",
       "227         92          117\n",
       "692         94          199\n",
       "832         94          227"
      ]
     },
     "execution_count": 135,
     "metadata": {},
     "output_type": "execute_result"
    }
   ],
   "source": [
    "hearts.sort_values([\"RestingBP\",\"Cholesterol\"])[[\"RestingBP\",\"Cholesterol\"]].head()\n",
    "\n"
   ]
  },
  {
   "cell_type": "code",
   "execution_count": 136,
   "id": "fa587dd0-1468-48fb-94b4-591db0e7decb",
   "metadata": {},
   "outputs": [
    {
     "data": {
      "image/png": "[encoded data removed]",
      "text/plain": [
       "<Figure size 500x500 with 1 Axes>"
      ]
     },
     "metadata": {},
     "output_type": "display_data"
    }
   ],
   "source": [
    "sns.lmplot(data=hearts,x=\"RestingBP\",y=\"Cholesterol\")\n",
    "plt.show()"
   ]
  },
  {
   "cell_type": "markdown",
   "id": "65771401-5e43-4864-afb3-fcd528bdb49a",
   "metadata": {},
   "source": [
    "# There are 0 data in resting_BP and 0 in Cholesterol, so i am going to filter the 0 data."
   ]
  },
  {
   "cell_type": "code",
   "execution_count": 137,
   "id": "63fe0b2e-08ba-4db9-97c5-8646a5e76d9c",
   "metadata": {},
   "outputs": [
    {
     "data": {
      "text/html": [
       "<div>\n",
       "<style scoped>\n",
       "    .dataframe tbody tr th:only-of-type {\n",
       "        vertical-align: middle;\n",
       "    }\n",
       "\n",
       "    .dataframe tbody tr th {\n",
       "        vertical-align: top;\n",
       "    }\n",
       "\n",
       "    .dataframe thead th {\n",
       "        text-align: right;\n",
       "    }\n",
       "</style>\n",
       "<table border=\"1\" class=\"dataframe\">\n",
       "  <thead>\n",
       "    <tr style=\"text-align: right;\">\n",
       "      <th></th>\n",
       "      <th>RestingBP</th>\n",
       "      <th>Cholesterol</th>\n",
       "    </tr>\n",
       "  </thead>\n",
       "  <tbody>\n",
       "    <tr>\n",
       "      <th>314</th>\n",
       "      <td>80</td>\n",
       "      <td>0</td>\n",
       "    </tr>\n",
       "    <tr>\n",
       "      <th>227</th>\n",
       "      <td>92</td>\n",
       "      <td>117</td>\n",
       "    </tr>\n",
       "    <tr>\n",
       "      <th>692</th>\n",
       "      <td>94</td>\n",
       "      <td>199</td>\n",
       "    </tr>\n",
       "    <tr>\n",
       "      <th>832</th>\n",
       "      <td>94</td>\n",
       "      <td>227</td>\n",
       "    </tr>\n",
       "    <tr>\n",
       "      <th>294</th>\n",
       "      <td>95</td>\n",
       "      <td>0</td>\n",
       "    </tr>\n",
       "    <tr>\n",
       "      <th>...</th>\n",
       "      <td>...</td>\n",
       "      <td>...</td>\n",
       "    </tr>\n",
       "    <tr>\n",
       "      <th>759</th>\n",
       "      <td>192</td>\n",
       "      <td>283</td>\n",
       "    </tr>\n",
       "    <tr>\n",
       "      <th>365</th>\n",
       "      <td>200</td>\n",
       "      <td>0</td>\n",
       "    </tr>\n",
       "    <tr>\n",
       "      <th>399</th>\n",
       "      <td>200</td>\n",
       "      <td>0</td>\n",
       "    </tr>\n",
       "    <tr>\n",
       "      <th>241</th>\n",
       "      <td>200</td>\n",
       "      <td>198</td>\n",
       "    </tr>\n",
       "    <tr>\n",
       "      <th>732</th>\n",
       "      <td>200</td>\n",
       "      <td>288</td>\n",
       "    </tr>\n",
       "  </tbody>\n",
       "</table>\n",
       "<p>917 rows × 2 columns</p>\n",
       "</div>"
      ],
      "text/plain": [
       "     RestingBP  Cholesterol\n",
       "314         80            0\n",
       "227         92          117\n",
       "692         94          199\n",
       "832         94          227\n",
       "294         95            0\n",
       "..         ...          ...\n",
       "759        192          283\n",
       "365        200            0\n",
       "399        200            0\n",
       "241        200          198\n",
       "732        200          288\n",
       "\n",
       "[917 rows x 2 columns]"
      ]
     },
     "execution_count": 137,
     "metadata": {},
     "output_type": "execute_result"
    }
   ],
   "source": [
    "hearts=hearts[(hearts[\"RestingBP\"]>0)|(hearts[\"Cholesterol\"]>0)]\n",
    "hearts.sort_values([\"RestingBP\",\"Cholesterol\"])[[\"RestingBP\",\"Cholesterol\"]]\n",
    "\n",
    "\n"
   ]
  },
  {
   "cell_type": "code",
   "execution_count": 138,
   "id": "1080faf8-8aa0-43bb-bbdf-738d569933c0",
   "metadata": {},
   "outputs": [],
   "source": [
    "hearts=hearts[(hearts[\"Cholesterol\"]>0)]\n"
   ]
  },
  {
   "cell_type": "code",
   "execution_count": 139,
   "id": "10b6508a-7a54-47cf-87b8-ae2e1e2977b1",
   "metadata": {},
   "outputs": [
    {
     "data": {
      "image/png": "[encoded data removed]",
      "text/plain": [
       "<Figure size 500x500 with 1 Axes>"
      ]
     },
     "metadata": {},
     "output_type": "display_data"
    }
   ],
   "source": [
    "sns.lmplot(data=hearts,x=\"RestingBP\",y=\"Cholesterol\")\n",
    "plt.show()"
   ]
  },
  {
   "cell_type": "code",
   "execution_count": 140,
   "id": "ac528c1e-2e2e-47b8-876e-39ed0c9ae322",
   "metadata": {},
   "outputs": [
    {
     "data": {
      "image/png": "[encoded data removed]",
      "text/plain": [
       "<Figure size 600x600 with 3 Axes>"
      ]
     },
     "metadata": {},
     "output_type": "display_data"
    }
   ],
   "source": [
    "# Does resting_BP have reationship with cholestrol level?\n",
    "sns.jointplot(data=hearts, x=\"RestingBP\", y=\"Cholesterol\")\n",
    "plt.show()"
   ]
  },
  {
   "cell_type": "code",
   "execution_count": 82,
   "id": "a7f5ede1-b6c9-46c7-bcff-282d2b43f8a5",
   "metadata": {},
   "outputs": [
    {
     "data": {
      "text/plain": [
       "RestingBP\n",
       "120    110\n",
       "130    102\n",
       "140     95\n",
       "150     48\n",
       "110     46\n",
       "      ... \n",
       "117      1\n",
       "154      1\n",
       "127      1\n",
       "129      1\n",
       "92       1\n",
       "Name: count, Length: 63, dtype: int64"
      ]
     },
     "execution_count": 82,
     "metadata": {},
     "output_type": "execute_result"
    }
   ],
   "source": [
    "hearts.value_counts(\"RestingBP\")\n"
   ]
  },
  {
   "cell_type": "code",
   "execution_count": 348,
   "id": "0c950361-1671-41b1-bde4-562d3bf52425",
   "metadata": {},
   "outputs": [
    {
     "data": {
      "text/plain": [
       "LinregressResult(slope=0.32837060492442366, intercept=200.9546153087464, rvalue=0.09593928890625067, pvalue=0.008740357102042236, stderr=0.12490313994995966, intercept_stderr=16.754421354526755)"
      ]
     },
     "execution_count": 348,
     "metadata": {},
     "output_type": "execute_result"
    }
   ],
   "source": [
    "# Does resting_BP have reationship with cholestrol level?\n",
    "\n",
    "stats.linregress(x = hearts[\"RestingBP\"], y = hearts[\"Cholesterol\"])\n"
   ]
  },
  {
   "cell_type": "markdown",
   "id": "a5e39609-8e50-46e0-8750-004d0c5cc6c5",
   "metadata": {},
   "source": [
    "# I am  able to tell there is a strong relationship between Cholesterol and resting BP.Because the p-value is 0.0087, also the stderr is 0.124 which means the dta represents the true mean of the populationcan. There is no outlier in Cholesterol and resting_BP after filtering it. Moreover the counts for resting_BP at 120mmHg is way more than other reading, I suspect that blood pressuure machine is not able to indicate the accurate blood pressure, and human blood pressure is dynamic.That is why the machince only can read approximate value."
   ]
  },
  {
   "cell_type": "code",
   "execution_count": 142,
   "id": "724c2a70-8f1d-4646-b5b1-c011e7e96187",
   "metadata": {},
   "outputs": [
    {
     "name": "stdout",
     "output_type": "stream",
     "text": [
      "<class 'pandas.core.frame.DataFrame'>\n",
      "Index: 746 entries, 0 to 917\n",
      "Data columns (total 7 columns):\n",
      " #   Column        Non-Null Count  Dtype  \n",
      "---  ------        --------------  -----  \n",
      " 0   Age           746 non-null    int64  \n",
      " 1   RestingBP     746 non-null    int64  \n",
      " 2   Cholesterol   746 non-null    int64  \n",
      " 3   FastingBS     746 non-null    int64  \n",
      " 4   MaxHR         746 non-null    int64  \n",
      " 5   Oldpeak       746 non-null    float64\n",
      " 6   HeartDisease  746 non-null    int64  \n",
      "dtypes: float64(1), int64(6)\n",
      "memory usage: 46.6 KB\n"
     ]
    }
   ],
   "source": [
    "heart2=hearts.drop(columns=['Sex','ChestPainType','RestingECG','ExerciseAngina','ST_Slope'])\n",
    "heart2.info()"
   ]
  },
  {
   "cell_type": "code",
   "execution_count": 143,
   "id": "c58d9cdd-c142-4adb-8ed0-0705161052c6",
   "metadata": {},
   "outputs": [
    {
     "data": {
      "image/png": "[encoded data removed]",
      "text/plain": [
       "<Figure size 640x480 with 2 Axes>"
      ]
     },
     "metadata": {},
     "output_type": "display_data"
    }
   ],
   "source": [
    "sns.heatmap(heart2.corr(method = \"spearman\"), annot = True)\n",
    "plt.show()\n",
    "#we can see the relationship after dropping the non-numeric data"
   ]
  },
  {
   "cell_type": "code",
   "execution_count": 351,
   "id": "05de1780-ca28-4b96-a378-f59b1e12d023",
   "metadata": {},
   "outputs": [
    {
     "data": {
      "image/png": "[encoded data removed]",
      "text/plain": [
       "<Figure size 500x500 with 1 Axes>"
      ]
     },
     "metadata": {},
     "output_type": "display_data"
    }
   ],
   "source": [
    "sns.catplot(data=hearts,x=\"HeartDisease\",y=\"Cholesterol\",kind=\"box\")\n",
    "plt.show()"
   ]
  },
  {
   "cell_type": "code",
   "execution_count": 144,
   "id": "92aebb43-af4f-4de9-bbc8-ea7c2b26af02",
   "metadata": {},
   "outputs": [
    {
     "data": {
      "text/plain": [
       "Ttest_indResult(statistic=-2.8484821957405964, pvalue=0.004514069106741928)"
      ]
     },
     "execution_count": 144,
     "metadata": {},
     "output_type": "execute_result"
    }
   ],
   "source": [
    "#4. does higher cholesterol indicate having heart disease?<br>\n",
    "\n",
    "noheartdisease = hearts[hearts[\"HeartDisease\"] == 0]\n",
    "hasheartdisease = hearts[hearts[\"HeartDisease\"] == 1]\n",
    "\n",
    "stats.ttest_ind(noheartdisease[\"Cholesterol\"], hasheartdisease[\"Cholesterol\"])"
   ]
  },
  {
   "cell_type": "code",
   "execution_count": 349,
   "id": "420b7427-9f7d-4865-9b4f-ed454d95364f",
   "metadata": {},
   "outputs": [
    {
     "data": {
      "text/plain": [
       "LinregressResult(slope=12.292566983578224, intercept=238.76923076923077, rvalue=0.10386559562465618, pvalue=0.0045140691067419, stderr=4.315479662102009, intercept_stderr=2.9811557033023384)"
      ]
     },
     "execution_count": 349,
     "metadata": {},
     "output_type": "execute_result"
    }
   ],
   "source": [
    "stats.linregress(x = hearts[\"HeartDisease\"], y = hearts[\"Cholesterol\"])\n"
   ]
  },
  {
   "cell_type": "markdown",
   "id": "d0da2ac6-0f20-4dae-a96b-0f22882d075c",
   "metadata": {},
   "source": [
    "# # There is correlation between cholesterol and heartdisease, and it is significant relationship, because the p_value is less than 0.05 and the standard error shows it is more accurate representation between them."
   ]
  },
  {
   "cell_type": "code",
   "execution_count": 226,
   "id": "aaa55f53-ce40-4b12-8a1e-b5db03d96fe7",
   "metadata": {},
   "outputs": [],
   "source": [
    "X_train, X_test, y_train, y_test = model_selection.train_test_split(hearts.iloc[:,[0,3,5,7,9,11]], hearts[[\"Cholesterol\"]], random_state=234)\n",
    "linearReg_train = linear_model.LinearRegression().fit(X_train, y_train)\n",
    "\n",
    "lassoReg = linear_model.Lasso(alpha = 1).fit(X_train, y_train)\n",
    "ridgeReg = linear_model.Ridge(alpha = 1).fit(X_train, y_train)\n",
    "# only quantitative data for training the cholesterol level"
   ]
  },
  {
   "cell_type": "code",
   "execution_count": 227,
   "id": "bb1592ea-1b4d-4787-a1e6-e41118667ba0",
   "metadata": {},
   "outputs": [
    {
     "data": {
      "text/plain": [
       "array([[-0.41591487,  0.2984604 , 13.30276668, -0.04417197,  0.07553599,\n",
       "        15.13418608]])"
      ]
     },
     "execution_count": 227,
     "metadata": {},
     "output_type": "execute_result"
    }
   ],
   "source": [
    "linearReg_train.coef_"
   ]
  },
  {
   "cell_type": "code",
   "execution_count": 228,
   "id": "bf031a71-19ff-4660-8043-e32c58b1fcd0",
   "metadata": {},
   "outputs": [
    {
     "data": {
      "text/html": [
       "<div>\n",
       "<style scoped>\n",
       "    .dataframe tbody tr th:only-of-type {\n",
       "        vertical-align: middle;\n",
       "    }\n",
       "\n",
       "    .dataframe tbody tr th {\n",
       "        vertical-align: top;\n",
       "    }\n",
       "\n",
       "    .dataframe thead th {\n",
       "        text-align: right;\n",
       "    }\n",
       "</style>\n",
       "<table border=\"1\" class=\"dataframe\">\n",
       "  <thead>\n",
       "    <tr style=\"text-align: right;\">\n",
       "      <th></th>\n",
       "      <th>variable</th>\n",
       "      <th>coefficient</th>\n",
       "    </tr>\n",
       "  </thead>\n",
       "  <tbody>\n",
       "    <tr>\n",
       "      <th>0</th>\n",
       "      <td>Age</td>\n",
       "      <td>-0.415915</td>\n",
       "    </tr>\n",
       "    <tr>\n",
       "      <th>3</th>\n",
       "      <td>MaxHR</td>\n",
       "      <td>-0.044172</td>\n",
       "    </tr>\n",
       "    <tr>\n",
       "      <th>4</th>\n",
       "      <td>Oldpeak</td>\n",
       "      <td>0.075536</td>\n",
       "    </tr>\n",
       "    <tr>\n",
       "      <th>1</th>\n",
       "      <td>RestingBP</td>\n",
       "      <td>0.298460</td>\n",
       "    </tr>\n",
       "    <tr>\n",
       "      <th>2</th>\n",
       "      <td>FastingBS</td>\n",
       "      <td>13.302767</td>\n",
       "    </tr>\n",
       "    <tr>\n",
       "      <th>5</th>\n",
       "      <td>HeartDisease</td>\n",
       "      <td>15.134186</td>\n",
       "    </tr>\n",
       "  </tbody>\n",
       "</table>\n",
       "</div>"
      ],
      "text/plain": [
       "       variable  coefficient\n",
       "0           Age    -0.415915\n",
       "3         MaxHR    -0.044172\n",
       "4       Oldpeak     0.075536\n",
       "1     RestingBP     0.298460\n",
       "2     FastingBS    13.302767\n",
       "5  HeartDisease    15.134186"
      ]
     },
     "execution_count": 228,
     "metadata": {},
     "output_type": "execute_result"
    }
   ],
   "source": [
    "pd.DataFrame({\"variable\" : X_test.columns, \"coefficient\" : linearReg_train.coef_[0]}).sort_values(\"coefficient\")\n"
   ]
  },
  {
   "cell_type": "code",
   "execution_count": 229,
   "id": "7f381796-5bf1-4687-a07d-7a6b410b4a25",
   "metadata": {},
   "outputs": [
    {
     "data": {
      "text/html": [
       "<div>\n",
       "<style scoped>\n",
       "    .dataframe tbody tr th:only-of-type {\n",
       "        vertical-align: middle;\n",
       "    }\n",
       "\n",
       "    .dataframe tbody tr th {\n",
       "        vertical-align: top;\n",
       "    }\n",
       "\n",
       "    .dataframe thead th {\n",
       "        text-align: right;\n",
       "    }\n",
       "</style>\n",
       "<table border=\"1\" class=\"dataframe\">\n",
       "  <thead>\n",
       "    <tr style=\"text-align: right;\">\n",
       "      <th></th>\n",
       "      <th>variable</th>\n",
       "      <th>coefficient</th>\n",
       "    </tr>\n",
       "  </thead>\n",
       "  <tbody>\n",
       "    <tr>\n",
       "      <th>0</th>\n",
       "      <td>Age</td>\n",
       "      <td>-0.413865</td>\n",
       "    </tr>\n",
       "    <tr>\n",
       "      <th>3</th>\n",
       "      <td>MaxHR</td>\n",
       "      <td>-0.044797</td>\n",
       "    </tr>\n",
       "    <tr>\n",
       "      <th>4</th>\n",
       "      <td>Oldpeak</td>\n",
       "      <td>0.099140</td>\n",
       "    </tr>\n",
       "    <tr>\n",
       "      <th>1</th>\n",
       "      <td>RestingBP</td>\n",
       "      <td>0.298940</td>\n",
       "    </tr>\n",
       "    <tr>\n",
       "      <th>2</th>\n",
       "      <td>FastingBS</td>\n",
       "      <td>13.141797</td>\n",
       "    </tr>\n",
       "    <tr>\n",
       "      <th>5</th>\n",
       "      <td>HeartDisease</td>\n",
       "      <td>14.994461</td>\n",
       "    </tr>\n",
       "  </tbody>\n",
       "</table>\n",
       "</div>"
      ],
      "text/plain": [
       "       variable  coefficient\n",
       "0           Age    -0.413865\n",
       "3         MaxHR    -0.044797\n",
       "4       Oldpeak     0.099140\n",
       "1     RestingBP     0.298940\n",
       "2     FastingBS    13.141797\n",
       "5  HeartDisease    14.994461"
      ]
     },
     "execution_count": 229,
     "metadata": {},
     "output_type": "execute_result"
    }
   ],
   "source": [
    "pd.DataFrame({\"variable\" : X_test.columns, \"coefficient\" : ridgeReg.coef_[0]}).sort_values(\"coefficient\")\n"
   ]
  },
  {
   "cell_type": "markdown",
   "id": "8e624263-ebb3-43ec-8ce0-e530ea2fbcc7",
   "metadata": {},
   "source": [
    "# I will use ridge moedel and biger alpha value to train the data in order to to get better performance than linear model.\n",
    "# HearDisease and Fasting BS are the most significant elements that affect the cholesterol level more."
   ]
  },
  {
   "cell_type": "code",
   "execution_count": 186,
   "id": "e62ef39a-3fbd-41c6-aef1-801d84431d59",
   "metadata": {},
   "outputs": [
    {
     "data": {
      "text/plain": [
       "0.0358808702196749"
      ]
     },
     "execution_count": 186,
     "metadata": {},
     "output_type": "execute_result"
    }
   ],
   "source": [
    "linearReg_train.score(X_train, y_train)"
   ]
  },
  {
   "cell_type": "code",
   "execution_count": 187,
   "id": "1f647aa6-fc6f-4f3d-88e0-9d7e8a8bbeb9",
   "metadata": {},
   "outputs": [
    {
     "data": {
      "text/plain": [
       "-0.07861780442877486"
      ]
     },
     "execution_count": 187,
     "metadata": {},
     "output_type": "execute_result"
    }
   ],
   "source": [
    "linearReg_train.score(X_test, y_test)"
   ]
  },
  {
   "cell_type": "code",
   "execution_count": 193,
   "id": "007a6c58-cfef-4451-85e3-cd3525f1cb12",
   "metadata": {},
   "outputs": [
    {
     "data": {
      "text/plain": [
       "0.03584680012660113"
      ]
     },
     "execution_count": 193,
     "metadata": {},
     "output_type": "execute_result"
    }
   ],
   "source": [
    "lassoReg.score(X_train, y_train)"
   ]
  },
  {
   "cell_type": "code",
   "execution_count": 192,
   "id": "3a53c954-95b6-41bd-bce0-4789cc9a5db6",
   "metadata": {},
   "outputs": [
    {
     "data": {
      "text/plain": [
       "-0.07562196028494905"
      ]
     },
     "execution_count": 192,
     "metadata": {},
     "output_type": "execute_result"
    }
   ],
   "source": [
    "lassoReg.score(X_test, y_test)"
   ]
  },
  {
   "cell_type": "code",
   "execution_count": 237,
   "id": "422d58d0-7c3e-4202-a455-8211a3325f67",
   "metadata": {},
   "outputs": [
    {
     "data": {
      "text/plain": [
       "0.03587865676188229"
      ]
     },
     "execution_count": 237,
     "metadata": {},
     "output_type": "execute_result"
    }
   ],
   "source": [
    "ridgeReg.score(X_train, y_train)"
   ]
  },
  {
   "cell_type": "code",
   "execution_count": 238,
   "id": "662b5b2e-6951-479a-af04-b798b523f584",
   "metadata": {},
   "outputs": [
    {
     "data": {
      "text/plain": [
       "-0.07791497922878543"
      ]
     },
     "execution_count": 238,
     "metadata": {},
     "output_type": "execute_result"
    }
   ],
   "source": [
    "ridgeReg.score(X_test, y_test)"
   ]
  },
  {
   "cell_type": "markdown",
   "id": "2370d866-922b-4c25-993c-e007dbbc395a",
   "metadata": {},
   "source": [
    "# I compared three different method of prdeiction. And .score() function calculates the accuracy in training and testing data. Three differnt methods have similiar score. All of them are quite low which means the predition base on test and train data are not so accurate."
   ]
  },
  {
   "cell_type": "code",
   "execution_count": 239,
   "id": "e0f48af9-fcf1-4e69-8d60-1d20cb929ac7",
   "metadata": {},
   "outputs": [],
   "source": [
    "cholesterol_pred_ridge = ridgeReg.predict(X_test)  # ridge model training on testing data"
   ]
  },
  {
   "cell_type": "code",
   "execution_count": 240,
   "id": "dab3d65f-74a4-49a9-92bc-26076ccbfc26",
   "metadata": {},
   "outputs": [],
   "source": [
    "cholesterol_pred2_ridge = ridgeReg.predict(X_train) # ridge model  training on training data"
   ]
  },
  {
   "cell_type": "code",
   "execution_count": 241,
   "id": "c7b97f2f-0f50-4b61-b899-20d1a1577f0d",
   "metadata": {},
   "outputs": [
    {
     "data": {
      "text/plain": [
       "-0.07791497922878543"
      ]
     },
     "execution_count": 241,
     "metadata": {},
     "output_type": "execute_result"
    }
   ],
   "source": [
    "metrics.r2_score(y_test, cholesterol_pred_ridge) #ridge on traning data"
   ]
  },
  {
   "cell_type": "code",
   "execution_count": 248,
   "id": "7f90c00d-429e-4dbf-aabc-743ba01ca554",
   "metadata": {},
   "outputs": [
    {
     "data": {
      "text/plain": [
       "0.03587865676188229"
      ]
     },
     "execution_count": 248,
     "metadata": {},
     "output_type": "execute_result"
    }
   ],
   "source": [
    "metrics.r2_score(y_train, cholesterol_pred2_ridge) #ridge on testing data"
   ]
  },
  {
   "cell_type": "markdown",
   "id": "ab9d6e1e-46d9-421e-8be4-3ec7fd13293c",
   "metadata": {},
   "source": [
    "# The data for cholesterol on training and testing are low which means the accuracy is not so great.\n",
    "# The r2_score is not high which means the accuracy isn't good, so i won't recommond to use for prediction in the future<br>\n",
    "# The reason may because the variables that predict the cholesterol don't have significant effect.\n",
    "# I will still recommand ridge model to train data in the future, but we need to collect more related data."
   ]
  },
  {
   "cell_type": "markdown",
   "id": "eac1c38f-7ff4-4dc9-a677-ac097862de58",
   "metadata": {},
   "source": [
    "# *********************************************************************************\n",
    "# Additional requirements: Does age has significant effect on having heart disease?<br>\n"
   ]
  },
  {
   "cell_type": "code",
   "execution_count": 249,
   "id": "031571ea-9ba2-4a74-87ce-5e7e1f828d77",
   "metadata": {},
   "outputs": [
    {
     "name": "stdout",
     "output_type": "stream",
     "text": [
      "<class 'pandas.core.frame.DataFrame'>\n",
      "Index: 746 entries, 0 to 917\n",
      "Data columns (total 12 columns):\n",
      " #   Column          Non-Null Count  Dtype  \n",
      "---  ------          --------------  -----  \n",
      " 0   Age             746 non-null    int64  \n",
      " 1   Sex             746 non-null    object \n",
      " 2   ChestPainType   746 non-null    object \n",
      " 3   RestingBP       746 non-null    int64  \n",
      " 4   Cholesterol     746 non-null    int64  \n",
      " 5   FastingBS       746 non-null    int64  \n",
      " 6   RestingECG      746 non-null    object \n",
      " 7   MaxHR           746 non-null    int64  \n",
      " 8   ExerciseAngina  746 non-null    object \n",
      " 9   Oldpeak         746 non-null    float64\n",
      " 10  ST_Slope        746 non-null    object \n",
      " 11  HeartDisease    746 non-null    int64  \n",
      "dtypes: float64(1), int64(6), object(5)\n",
      "memory usage: 75.8+ KB\n"
     ]
    }
   ],
   "source": [
    "hearts.info()"
   ]
  },
  {
   "cell_type": "code",
   "execution_count": 275,
   "id": "7415c260-7ac8-44ac-848b-bb032c6cdd67",
   "metadata": {},
   "outputs": [
    {
     "data": {
      "image/png": "[encoded data removed]",
      "text/plain": [
       "<Figure size 500x500 with 1 Axes>"
      ]
     },
     "metadata": {},
     "output_type": "display_data"
    }
   ],
   "source": [
    "sns.catplot(data=hearts,x=\"HeartDisease\",y=\"Age\",kind=\"box\")\n",
    "plt.show()"
   ]
  },
  {
   "cell_type": "code",
   "execution_count": 276,
   "id": "5ff2843b-3919-444c-93b3-1bea27e1309f",
   "metadata": {},
   "outputs": [
    {
     "data": {
      "text/plain": [
       "Ttest_indResult(statistic=-8.534583526140043, pvalue=7.861071765822652e-17)"
      ]
     },
     "execution_count": 276,
     "metadata": {},
     "output_type": "execute_result"
    }
   ],
   "source": [
    "noheartdisease = hearts[hearts[\"HeartDisease\"] == 0]\n",
    "hasheartdisease = hearts[hearts[\"HeartDisease\"] == 1]\n",
    "stats.ttest_ind(noheartdisease[\"Age\"], hasheartdisease[\"Age\"])"
   ]
  },
  {
   "cell_type": "code",
   "execution_count": null,
   "id": "c0963cd6-107f-425e-a036-f33afd7aef61",
   "metadata": {},
   "outputs": [],
   "source": [
    "# The relationship between heartdisease and Age has strong effect to each othe, because the p-value is less than 0.05"
   ]
  },
  {
   "cell_type": "code",
   "execution_count": 277,
   "id": "91779bbb-9818-47fe-b9f2-b1935a2e622e",
   "metadata": {},
   "outputs": [
    {
     "data": {
      "text/plain": [
       "array([[ 0.00293337,  0.00033892,  0.00031925,  0.13076858, -0.00465678,\n",
       "         0.20123485]])"
      ]
     },
     "execution_count": 277,
     "metadata": {},
     "output_type": "execute_result"
    }
   ],
   "source": [
    "X_train2, X_test2, y_train2, y_test2 = model_selection.train_test_split(hearts.iloc[:,[0,3,4,5,7,9]], hearts[[\"HeartDisease\"]], random_state=400)\n",
    "linearReg_train2 = linear_model.LinearRegression().fit(X_train2, y_train2)\n",
    "linearReg_train2.coef_"
   ]
  },
  {
   "cell_type": "code",
   "execution_count": 278,
   "id": "080c4b2c-e20e-4f4b-8070-a5c14cad9231",
   "metadata": {},
   "outputs": [
    {
     "data": {
      "text/html": [
       "<div>\n",
       "<style scoped>\n",
       "    .dataframe tbody tr th:only-of-type {\n",
       "        vertical-align: middle;\n",
       "    }\n",
       "\n",
       "    .dataframe tbody tr th {\n",
       "        vertical-align: top;\n",
       "    }\n",
       "\n",
       "    .dataframe thead th {\n",
       "        text-align: right;\n",
       "    }\n",
       "</style>\n",
       "<table border=\"1\" class=\"dataframe\">\n",
       "  <thead>\n",
       "    <tr style=\"text-align: right;\">\n",
       "      <th></th>\n",
       "      <th>variable</th>\n",
       "      <th>coefficient</th>\n",
       "    </tr>\n",
       "  </thead>\n",
       "  <tbody>\n",
       "    <tr>\n",
       "      <th>4</th>\n",
       "      <td>MaxHR</td>\n",
       "      <td>-0.004657</td>\n",
       "    </tr>\n",
       "    <tr>\n",
       "      <th>2</th>\n",
       "      <td>Cholesterol</td>\n",
       "      <td>0.000319</td>\n",
       "    </tr>\n",
       "    <tr>\n",
       "      <th>1</th>\n",
       "      <td>RestingBP</td>\n",
       "      <td>0.000339</td>\n",
       "    </tr>\n",
       "    <tr>\n",
       "      <th>0</th>\n",
       "      <td>Age</td>\n",
       "      <td>0.002933</td>\n",
       "    </tr>\n",
       "    <tr>\n",
       "      <th>3</th>\n",
       "      <td>FastingBS</td>\n",
       "      <td>0.130769</td>\n",
       "    </tr>\n",
       "    <tr>\n",
       "      <th>5</th>\n",
       "      <td>Oldpeak</td>\n",
       "      <td>0.201235</td>\n",
       "    </tr>\n",
       "  </tbody>\n",
       "</table>\n",
       "</div>"
      ],
      "text/plain": [
       "      variable  coefficient\n",
       "4        MaxHR    -0.004657\n",
       "2  Cholesterol     0.000319\n",
       "1    RestingBP     0.000339\n",
       "0          Age     0.002933\n",
       "3    FastingBS     0.130769\n",
       "5      Oldpeak     0.201235"
      ]
     },
     "execution_count": 278,
     "metadata": {},
     "output_type": "execute_result"
    }
   ],
   "source": [
    "pd.DataFrame({\"variable\" : X_test2.columns, \"coefficient\" : linearReg_train2.coef_[0]}).sort_values(\"coefficient\")\n"
   ]
  },
  {
   "cell_type": "code",
   "execution_count": 291,
   "id": "9fb5d3f6-0ab0-412e-8d67-3f8f6dc05164",
   "metadata": {},
   "outputs": [
    {
     "data": {
      "text/plain": [
       "array([ 0.,  0.,  0.,  0., -0.,  0.])"
      ]
     },
     "execution_count": 291,
     "metadata": {},
     "output_type": "execute_result"
    }
   ],
   "source": [
    "\n",
    "lassoReg2 = linear_model.Lasso(alpha = 10).fit(X_train2, y_train2)\n",
    "ridgeReg2 = linear_model.Ridge(alpha = 10).fit(X_train2, y_train2)\n",
    "lassoReg2.coef_"
   ]
  },
  {
   "cell_type": "code",
   "execution_count": 292,
   "id": "e572c52b-d63e-4996-8104-7b2746cf6320",
   "metadata": {},
   "outputs": [
    {
     "data": {
      "text/plain": [
       "array([[ 0.00316723,  0.00039737,  0.00032324,  0.11465943, -0.00468705,\n",
       "         0.19725947]])"
      ]
     },
     "execution_count": 292,
     "metadata": {},
     "output_type": "execute_result"
    }
   ],
   "source": [
    "ridgeReg2.coef_"
   ]
  },
  {
   "cell_type": "code",
   "execution_count": 293,
   "id": "78ce635c-20b5-4a25-94b3-0463a8db6336",
   "metadata": {},
   "outputs": [
    {
     "data": {
      "text/html": [
       "<div>\n",
       "<style scoped>\n",
       "    .dataframe tbody tr th:only-of-type {\n",
       "        vertical-align: middle;\n",
       "    }\n",
       "\n",
       "    .dataframe tbody tr th {\n",
       "        vertical-align: top;\n",
       "    }\n",
       "\n",
       "    .dataframe thead th {\n",
       "        text-align: right;\n",
       "    }\n",
       "</style>\n",
       "<table border=\"1\" class=\"dataframe\">\n",
       "  <thead>\n",
       "    <tr style=\"text-align: right;\">\n",
       "      <th></th>\n",
       "      <th>variable</th>\n",
       "      <th>coefficient</th>\n",
       "    </tr>\n",
       "  </thead>\n",
       "  <tbody>\n",
       "    <tr>\n",
       "      <th>4</th>\n",
       "      <td>MaxHR</td>\n",
       "      <td>-0.004657</td>\n",
       "    </tr>\n",
       "    <tr>\n",
       "      <th>2</th>\n",
       "      <td>Cholesterol</td>\n",
       "      <td>0.000319</td>\n",
       "    </tr>\n",
       "    <tr>\n",
       "      <th>1</th>\n",
       "      <td>RestingBP</td>\n",
       "      <td>0.000339</td>\n",
       "    </tr>\n",
       "    <tr>\n",
       "      <th>0</th>\n",
       "      <td>Age</td>\n",
       "      <td>0.002933</td>\n",
       "    </tr>\n",
       "    <tr>\n",
       "      <th>3</th>\n",
       "      <td>FastingBS</td>\n",
       "      <td>0.130769</td>\n",
       "    </tr>\n",
       "    <tr>\n",
       "      <th>5</th>\n",
       "      <td>Oldpeak</td>\n",
       "      <td>0.201235</td>\n",
       "    </tr>\n",
       "  </tbody>\n",
       "</table>\n",
       "</div>"
      ],
      "text/plain": [
       "      variable  coefficient\n",
       "4        MaxHR    -0.004657\n",
       "2  Cholesterol     0.000319\n",
       "1    RestingBP     0.000339\n",
       "0          Age     0.002933\n",
       "3    FastingBS     0.130769\n",
       "5      Oldpeak     0.201235"
      ]
     },
     "execution_count": 293,
     "metadata": {},
     "output_type": "execute_result"
    }
   ],
   "source": [
    "pd.DataFrame({\"variable\" : X_test2.columns, \"coefficient\" : linearReg_train2.coef_[0]}).sort_values(\"coefficient\")\n"
   ]
  },
  {
   "cell_type": "code",
   "execution_count": 294,
   "id": "74b3c368-24ec-4585-8072-0fb55cd54710",
   "metadata": {},
   "outputs": [
    {
     "data": {
      "text/html": [
       "<div>\n",
       "<style scoped>\n",
       "    .dataframe tbody tr th:only-of-type {\n",
       "        vertical-align: middle;\n",
       "    }\n",
       "\n",
       "    .dataframe tbody tr th {\n",
       "        vertical-align: top;\n",
       "    }\n",
       "\n",
       "    .dataframe thead th {\n",
       "        text-align: right;\n",
       "    }\n",
       "</style>\n",
       "<table border=\"1\" class=\"dataframe\">\n",
       "  <thead>\n",
       "    <tr style=\"text-align: right;\">\n",
       "      <th></th>\n",
       "      <th>variable</th>\n",
       "      <th>coefficient</th>\n",
       "    </tr>\n",
       "  </thead>\n",
       "  <tbody>\n",
       "    <tr>\n",
       "      <th>4</th>\n",
       "      <td>MaxHR</td>\n",
       "      <td>-0.004687</td>\n",
       "    </tr>\n",
       "    <tr>\n",
       "      <th>2</th>\n",
       "      <td>Cholesterol</td>\n",
       "      <td>0.000323</td>\n",
       "    </tr>\n",
       "    <tr>\n",
       "      <th>1</th>\n",
       "      <td>RestingBP</td>\n",
       "      <td>0.000397</td>\n",
       "    </tr>\n",
       "    <tr>\n",
       "      <th>0</th>\n",
       "      <td>Age</td>\n",
       "      <td>0.003167</td>\n",
       "    </tr>\n",
       "    <tr>\n",
       "      <th>3</th>\n",
       "      <td>FastingBS</td>\n",
       "      <td>0.114659</td>\n",
       "    </tr>\n",
       "    <tr>\n",
       "      <th>5</th>\n",
       "      <td>Oldpeak</td>\n",
       "      <td>0.197259</td>\n",
       "    </tr>\n",
       "  </tbody>\n",
       "</table>\n",
       "</div>"
      ],
      "text/plain": [
       "      variable  coefficient\n",
       "4        MaxHR    -0.004687\n",
       "2  Cholesterol     0.000323\n",
       "1    RestingBP     0.000397\n",
       "0          Age     0.003167\n",
       "3    FastingBS     0.114659\n",
       "5      Oldpeak     0.197259"
      ]
     },
     "execution_count": 294,
     "metadata": {},
     "output_type": "execute_result"
    }
   ],
   "source": [
    "pd.DataFrame({\"variable\" : X_test2.columns, \"coefficient\" : ridgeReg2.coef_[0]}).sort_values(\"coefficient\")\n"
   ]
  },
  {
   "cell_type": "code",
   "execution_count": 308,
   "id": "5f49daf7-4eba-44f7-9c59-bdf4f2cd085f",
   "metadata": {},
   "outputs": [],
   "source": [
    "heartdisease_pred_ridge = ridgeReg2.predict(X_test2)  # ridge model training on testing data"
   ]
  },
  {
   "cell_type": "code",
   "execution_count": 309,
   "id": "701c2c33-47d5-4c59-b48e-cc914db88a62",
   "metadata": {},
   "outputs": [],
   "source": [
    "heartdisease_pred2_ridge = ridgeReg2.predict(X_train2) # ridge model  training on training data"
   ]
  },
  {
   "cell_type": "code",
   "execution_count": 310,
   "id": "36aa0aff-76d7-4600-aaaf-e89d4f5ccfb9",
   "metadata": {},
   "outputs": [
    {
     "data": {
      "text/plain": [
       "0.32168227182929443"
      ]
     },
     "execution_count": 310,
     "metadata": {},
     "output_type": "execute_result"
    }
   ],
   "source": [
    "metrics.r2_score(y_test2, heartdisease_pred_ridge) #ridge on traning data, more accurate when alpha is greater"
   ]
  },
  {
   "cell_type": "code",
   "execution_count": 311,
   "id": "822167a7-a424-4d8b-9998-be44d9eebd91",
   "metadata": {},
   "outputs": [
    {
     "data": {
      "text/plain": [
       "0.3322555223843052"
      ]
     },
     "execution_count": 311,
     "metadata": {},
     "output_type": "execute_result"
    }
   ],
   "source": [
    "metrics.r2_score(y_train2, heartdisease_pred2_ridge) #ridge on testing data, more accurate when alpha is greater"
   ]
  },
  {
   "cell_type": "markdown",
   "id": "9cb0a92d-7650-4dfc-b236-7bde7ea1f041",
   "metadata": {},
   "source": [
    "# The scores of the prediction on the traning data is : 0.32168227182929443\n",
    "# The scores of the prediction on the testing data is : 0.3322555223843052\n",
    "# The Oldpeak has most effect on heartdisease prediction.\n",
    "\n"
   ]
  },
  {
   "cell_type": "code",
   "execution_count": 318,
   "id": "fa7cc215-5d2a-4f48-9925-cba6337558d7",
   "metadata": {},
   "outputs": [],
   "source": [
    "heartdisease_pred_ridge[heartdisease_pred_ridge <= 0.5] = 0.\n",
    "heartdisease_pred_ridge[heartdisease_pred_ridge > 0.5] = 1.\n",
    "heartdisease_pred2_ridge[heartdisease_pred2_ridge <= 0.5] = 0.\n",
    "heartdisease_pred2_ridge[heartdisease_pred2_ridge > 0.5] = 1.\n",
    "\n"
   ]
  },
  {
   "cell_type": "code",
   "execution_count": 319,
   "id": "4203c946-04e4-4d8b-b7bb-7cdc8ab03c1b",
   "metadata": {
    "tags": []
   },
   "outputs": [
    {
     "data": {
      "text/plain": [
       "array([[76, 14],\n",
       "       [28, 69]])"
      ]
     },
     "execution_count": 319,
     "metadata": {},
     "output_type": "execute_result"
    }
   ],
   "source": [
    "metrics.confusion_matrix(y_test2, heartdisease_pred_ridge)\n",
    "#y_pred = logreg.predict(X_test)\n",
    "#metrics.confusion_matrix(y_test, y_pred)"
   ]
  },
  {
   "cell_type": "markdown",
   "id": "ded8f09b-6d2b-4902-b3d9-17a906e3da45",
   "metadata": {},
   "source": [
    "# As confusion matrix shows there are 76 true negatives and 69 true positives in this prediction"
   ]
  },
  {
   "cell_type": "markdown",
   "id": "2aa80e7d-3bb3-4293-95a1-a76ad8b5afbd",
   "metadata": {},
   "source": [
    "# The scores are still low which means the accuracy is not high, but this prediction is higher than the cholesterol prediction. I tried to make alpha greater, so the training will be more strict, but the outcome has insignificant effect. I will still recommend this model to train data, but definitely will collect more data that is related to heartdisease. \n"
   ]
  },
  {
   "cell_type": "markdown",
   "id": "08455a88-9d75-406b-ae3b-fa51094e2026",
   "metadata": {},
   "source": [
    "# Challenge problem:\n",
    "# Does ST_slope change indicate heartdisease?<br>\n"
   ]
  },
  {
   "cell_type": "code",
   "execution_count": 320,
   "id": "5cf5ea26-6808-4e14-9e9e-96b7a6df5b6c",
   "metadata": {},
   "outputs": [
    {
     "name": "stdout",
     "output_type": "stream",
     "text": [
      "<class 'pandas.core.frame.DataFrame'>\n",
      "Index: 746 entries, 0 to 917\n",
      "Data columns (total 12 columns):\n",
      " #   Column          Non-Null Count  Dtype  \n",
      "---  ------          --------------  -----  \n",
      " 0   Age             746 non-null    int64  \n",
      " 1   Sex             746 non-null    object \n",
      " 2   ChestPainType   746 non-null    object \n",
      " 3   RestingBP       746 non-null    int64  \n",
      " 4   Cholesterol     746 non-null    int64  \n",
      " 5   FastingBS       746 non-null    int64  \n",
      " 6   RestingECG      746 non-null    object \n",
      " 7   MaxHR           746 non-null    int64  \n",
      " 8   ExerciseAngina  746 non-null    object \n",
      " 9   Oldpeak         746 non-null    float64\n",
      " 10  ST_Slope        746 non-null    object \n",
      " 11  HeartDisease    746 non-null    int64  \n",
      "dtypes: float64(1), int64(6), object(5)\n",
      "memory usage: 91.9+ KB\n"
     ]
    }
   ],
   "source": [
    "hearts.info()"
   ]
  },
  {
   "cell_type": "code",
   "execution_count": 324,
   "id": "fe96d6a9-a9e0-415d-9bd1-518b819546e9",
   "metadata": {},
   "outputs": [
    {
     "data": {
      "text/plain": [
       "ST_Slope\n",
       "Flat    354\n",
       "Up      349\n",
       "Down     43\n",
       "Name: count, dtype: int64"
      ]
     },
     "execution_count": 324,
     "metadata": {},
     "output_type": "execute_result"
    }
   ],
   "source": [
    "hearts.value_counts(\"ST_Slope\")"
   ]
  },
  {
   "cell_type": "code",
   "execution_count": 331,
   "id": "2e93bdbf-cb91-4f24-bce8-1cc17ad86d38",
   "metadata": {},
   "outputs": [
    {
     "data": {
      "image/png": "[encoded data removed]",
      "text/plain": [
       "<Figure size 604.361x500 with 1 Axes>"
      ]
     },
     "metadata": {},
     "output_type": "display_data"
    }
   ],
   "source": [
    "sns.displot(data=hearts, x=\"ST_Slope\",hue = \"HeartDisease\", kind = \"hist\")\n",
    "plt.show()\n"
   ]
  },
  {
   "cell_type": "code",
   "execution_count": 333,
   "id": "f554b37b-376f-48b3-99cf-cab96bab5ec6",
   "metadata": {
    "collapsed": true,
    "jupyter": {
     "outputs_hidden": true
    },
    "tags": []
   },
   "outputs": [
    {
     "data": {
      "image/png": "[encoded data removed]",
      "text/plain": [
       "<Figure size 589.375x500 with 1 Axes>"
      ]
     },
     "metadata": {},
     "output_type": "display_data"
    }
   ],
   "source": [
    "sns.displot(data=hearts, x = \"HeartDisease\", hue=\"ST_Slope\", kind=\"kde\")\n",
    "plt.show()"
   ]
  },
  {
   "cell_type": "markdown",
   "id": "f43cf992-e765-4200-9a0b-e3501a8dce38",
   "metadata": {},
   "source": [
    "# Above diagram shows there are more heartdisease patient who have flat ST_slope, whereas up ST_slope has less heartdisease."
   ]
  },
  {
   "cell_type": "code",
   "execution_count": 338,
   "id": "71e2bd86-7790-4965-9767-b2d7596495e1",
   "metadata": {},
   "outputs": [
    {
     "data": {
      "text/html": [
       "<div>\n",
       "<style scoped>\n",
       "    .dataframe tbody tr th:only-of-type {\n",
       "        vertical-align: middle;\n",
       "    }\n",
       "\n",
       "    .dataframe tbody tr th {\n",
       "        vertical-align: top;\n",
       "    }\n",
       "\n",
       "    .dataframe thead th {\n",
       "        text-align: right;\n",
       "    }\n",
       "</style>\n",
       "<table border=\"1\" class=\"dataframe\">\n",
       "  <thead>\n",
       "    <tr style=\"text-align: right;\">\n",
       "      <th>HeartDisease</th>\n",
       "      <th>0</th>\n",
       "      <th>1</th>\n",
       "    </tr>\n",
       "    <tr>\n",
       "      <th>ST_Slope</th>\n",
       "      <th></th>\n",
       "      <th></th>\n",
       "    </tr>\n",
       "  </thead>\n",
       "  <tbody>\n",
       "    <tr>\n",
       "      <th>Down</th>\n",
       "      <td>11</td>\n",
       "      <td>32</td>\n",
       "    </tr>\n",
       "    <tr>\n",
       "      <th>Flat</th>\n",
       "      <td>75</td>\n",
       "      <td>279</td>\n",
       "    </tr>\n",
       "    <tr>\n",
       "      <th>Up</th>\n",
       "      <td>304</td>\n",
       "      <td>45</td>\n",
       "    </tr>\n",
       "  </tbody>\n",
       "</table>\n",
       "</div>"
      ],
      "text/plain": [
       "HeartDisease    0    1\n",
       "ST_Slope              \n",
       "Down           11   32\n",
       "Flat           75  279\n",
       "Up            304   45"
      ]
     },
     "execution_count": 338,
     "metadata": {},
     "output_type": "execute_result"
    }
   ],
   "source": [
    "# new dataframe for heartdisease and st_slope\n",
    "\n",
    "CrosstabResult=pd.crosstab(index=hearts['ST_Slope'],columns=hearts['HeartDisease'])\n",
    "CrosstabResult\n"
   ]
  },
  {
   "cell_type": "code",
   "execution_count": 339,
   "id": "08b4cf7f-f86d-40b2-a078-b9cc6cd37a91",
   "metadata": {},
   "outputs": [],
   "source": [
    "\n",
    "# importing the required function\n",
    "from scipy.stats import chi2_contingency"
   ]
  },
  {
   "cell_type": "code",
   "execution_count": 341,
   "id": "08556b2f-dda6-4e1a-af49-75a6df6b04b2",
   "metadata": {},
   "outputs": [
    {
     "data": {
      "text/plain": [
       "Chi2ContingencyResult(statistic=319.13762270357586, pvalue=5.013554566295527e-70, dof=2, expected_freq=array([[ 22.47989276,  20.52010724],\n",
       "       [185.06702413, 168.93297587],\n",
       "       [182.45308311, 166.54691689]]))"
      ]
     },
     "execution_count": 341,
     "metadata": {},
     "output_type": "execute_result"
    }
   ],
   "source": [
    "\n",
    "# Performing Chi-sq test\n",
    "ChiSqResult = chi2_contingency(CrosstabResult)\n",
    "\n",
    "# P-Value is the Probability of H0 being True\n",
    "# If P-Value&gt;0.05 then only we Accept the assumption(H0)\n",
    "ChiSqResult"
   ]
  },
  {
   "cell_type": "markdown",
   "id": "62755e62-b1d5-4973-84c0-b0dc06b8f41c",
   "metadata": {},
   "source": [
    "# The p-value between Heartdisease and ST_slpoe is signifacantly less than 0.05. so the null hypothesis is rejected which means there is a relationship between two variables. But in this case, it is not able to tell different ST_slop will \"cause\" or \"indicate\" the person has heartdisease or not. "
   ]
  },
  {
   "cell_type": "markdown",
   "id": "5bdad516-88c7-4ff6-b544-49058f64175e",
   "metadata": {},
   "source": [
    "# Conclusion: Before analysing the data, I am pretty sure that ST_slope up indicates patient has heart attack, and may need immediately treatment. However, the last part of analysis shows exactly in the other way. Flat ST_slope has more heartdisease. i remember Dr Kelvin in national heart center singapore, said that st changing means cardio muscle has injury. Therefore, i am not 100% believe this dataset.\n"
   ]
  },
  {
   "cell_type": "markdown",
   "id": "79e72e6c-102f-4a35-b2a1-c1830aeafc83",
   "metadata": {},
   "source": [
    "# Another analysis showed there are strong relationship between two variables. But when I run the predicting model for training data and testin gdata, the score of accuracy is not great to convince me to trust this dataset 100%. Therefore, when we look for the dataset that we need, we still need to be cautious and check the reliability. "
   ]
  },
  {
   "cell_type": "code",
   "execution_count": null,
   "id": "77cb6927-2a92-4fea-8c8f-599ed86b6c13",
   "metadata": {},
   "outputs": [],
   "source": []
  }
 ],
 "metadata": {
  "kernelspec": {
   "display_name": "Python 3 (ipykernel)",
   "language": "python",
   "name": "python3"
  },
  "language_info": {
   "codemirror_mode": {
    "name": "ipython",
    "version": 3
   },
   "file_extension": ".py",
   "mimetype": "text/x-python",
   "name": "python",
   "nbconvert_exporter": "python",
   "pygments_lexer": "ipython3",
   "version": "3.10.9"
  }
 },
 "nbformat": 4,
 "nbformat_minor": 5
}
